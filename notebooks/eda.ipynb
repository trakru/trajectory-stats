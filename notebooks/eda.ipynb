{
 "metadata": {
  "language_info": {
   "codemirror_mode": {
    "name": "ipython",
    "version": 3
   },
   "file_extension": ".py",
   "mimetype": "text/x-python",
   "name": "python",
   "nbconvert_exporter": "python",
   "pygments_lexer": "ipython3",
   "version": "3.8.8-final"
  },
  "orig_nbformat": 2,
  "kernelspec": {
   "name": "python3",
   "display_name": "Python 3.8.8 64-bit ('skmobaws': conda)",
   "metadata": {
    "interpreter": {
     "hash": "3fa9cfde166589ea9ede29cc98a94400aa244cdcb64f8c8082253e8ad6e2ab98"
    }
   }
  }
 },
 "nbformat": 4,
 "nbformat_minor": 2,
 "cells": [
  {
   "cell_type": "code",
   "execution_count": 1,
   "metadata": {},
   "outputs": [],
   "source": [
    "# import libraries\n",
    "import skmob\n",
    "import pandas as pd\n",
    "from pathlib import Path\n",
    "import glob"
   ]
  },
  {
   "cell_type": "code",
   "execution_count": 2,
   "metadata": {},
   "outputs": [],
   "source": [
    "#Local file path\n",
    "raw_files = [file for file in Path(Path().resolve().parents[0], 'data').glob('*.parquet')]"
   ]
  },
  {
   "cell_type": "code",
   "execution_count": 3,
   "metadata": {},
   "outputs": [
    {
     "output_type": "stream",
     "name": "stdout",
     "text": [
      "43603\n"
     ]
    }
   ],
   "source": [
    "#create Df\n",
    "df = pd.DataFrame()\n",
    "for file in raw_files:\n",
    "    df = pd.concat([df, pd.read_parquet(file)])\n",
    "print(len(df))"
   ]
  },
  {
   "cell_type": "code",
   "execution_count": 4,
   "metadata": {},
   "outputs": [],
   "source": [
    "# since user id in examples has been numeric, creating a dictionary of numeric values for uid\n",
    "list_of_values = [value for value in df.client_mac_address.unique()]\n",
    "user_dict = {list_of_values[i]: i for i in range(len(list_of_values))}"
   ]
  },
  {
   "cell_type": "code",
   "execution_count": 5,
   "metadata": {},
   "outputs": [],
   "source": [
    "# creating a column called user to replace client mac address\n",
    "df['user'] = df['client_mac_address'].apply(lambda x: user_dict[x])"
   ]
  },
  {
   "cell_type": "code",
   "execution_count": 6,
   "metadata": {},
   "outputs": [],
   "source": [
    "df = df[['Latitude', 'Longitude', 'time', 'user']]"
   ]
  },
  {
   "cell_type": "code",
   "execution_count": 7,
   "metadata": {},
   "outputs": [],
   "source": [
    "#create trajectory dataframe\n",
    "\n",
    "tdf = skmob.TrajDataFrame(df,\n",
    "                            latitude='Latitude',\n",
    "                            longitude='Longitude',\n",
    "                            datetime='time',\n",
    "                            user_id='user')"
   ]
  },
  {
   "cell_type": "code",
   "execution_count": 8,
   "metadata": {},
   "outputs": [
    {
     "output_type": "stream",
     "name": "stdout",
     "text": [
      "<class 'skmob.core.trajectorydataframe.TrajDataFrame'>\n"
     ]
    }
   ],
   "source": [
    "print(type(tdf))"
   ]
  },
  {
   "cell_type": "code",
   "execution_count": 9,
   "metadata": {},
   "outputs": [
    {
     "output_type": "execute_result",
     "data": {
      "text/plain": [
       "{'init': 'epsg:4326'}"
      ]
     },
     "metadata": {},
     "execution_count": 9
    }
   ],
   "source": [
    "tdf.crs"
   ]
  },
  {
   "cell_type": "code",
   "execution_count": 10,
   "metadata": {},
   "outputs": [],
   "source": [
    "tdf.parameters['source'] = 'sample files from parquet ns bucket'"
   ]
  },
  {
   "cell_type": "code",
   "execution_count": 11,
   "metadata": {},
   "outputs": [
    {
     "output_type": "execute_result",
     "data": {
      "text/plain": [
       "{'source': 'sample files from parquet ns bucket'}"
      ]
     },
     "metadata": {},
     "execution_count": 11
    }
   ],
   "source": [
    "tdf.parameters"
   ]
  },
  {
   "cell_type": "code",
   "execution_count": 12,
   "metadata": {},
   "outputs": [
    {
     "output_type": "execute_result",
     "data": {
      "text/plain": [
       "lat                float64\n",
       "lng                float64\n",
       "datetime    datetime64[ns]\n",
       "uid                  int64\n",
       "dtype: object"
      ]
     },
     "metadata": {},
     "execution_count": 12
    }
   ],
   "source": [
    "tdf.dtypes"
   ]
  }
 ]
}