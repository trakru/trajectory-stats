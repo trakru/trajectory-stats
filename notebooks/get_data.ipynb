{
 "metadata": {
  "language_info": {
   "codemirror_mode": {
    "name": "ipython",
    "version": 3
   },
   "file_extension": ".py",
   "mimetype": "text/x-python",
   "name": "python",
   "nbconvert_exporter": "python",
   "pygments_lexer": "ipython3",
   "version": "3.8.8-final"
  },
  "orig_nbformat": 2,
  "kernelspec": {
   "name": "python3",
   "display_name": "Python 3.8.8 64-bit ('skmobaws': conda)",
   "metadata": {
    "interpreter": {
     "hash": "3fa9cfde166589ea9ede29cc98a94400aa244cdcb64f8c8082253e8ad6e2ab98"
    }
   }
  }
 },
 "nbformat": 4,
 "nbformat_minor": 2,
 "cells": [
  {
   "cell_type": "code",
   "execution_count": 1,
   "metadata": {},
   "outputs": [],
   "source": [
    "import boto3\n",
    "import awswrangler as wr\n",
    "import pandas as pd\n",
    "import time"
   ]
  },
  {
   "cell_type": "code",
   "execution_count": 2,
   "metadata": {},
   "outputs": [],
   "source": [
    "session = boto3.session.Session(profile_name='saml')\n",
    "s3 = session.resource('s3')"
   ]
  },
  {
   "cell_type": "code",
   "execution_count": 3,
   "metadata": {},
   "outputs": [],
   "source": [
    "parquet_bucket = 's3://xwifi-od-s3-parquet/ns/type=averagethroughput'\n",
    "gis_bucket = 's3://xwifi-od-s3-transform/converted-data/gis/final'"
   ]
  },
  {
   "cell_type": "code",
   "execution_count": 4,
   "metadata": {},
   "outputs": [],
   "source": [
    "result = wr.s3.list_objects(parquet_bucket, boto3_session=session)\n",
    "gis_file= wr.s3.list_objects(gis_bucket, boto3_session=session)"
   ]
  },
  {
   "cell_type": "code",
   "execution_count": 5,
   "metadata": {},
   "outputs": [],
   "source": [
    "result = result[0:4]\n",
    "gis_file = gis_file[0]"
   ]
  },
  {
   "cell_type": "code",
   "execution_count": 7,
   "metadata": {},
   "outputs": [
    {
     "output_type": "execute_result",
     "data": {
      "text/plain": [
       "'s3://xwifi-od-s3-transform/converted-data/gis/final/gis-master_snmpMAC_updated.csv'"
      ]
     },
     "metadata": {},
     "execution_count": 7
    }
   ],
   "source": [
    "gis_file"
   ]
  },
  {
   "cell_type": "code",
   "execution_count": 12,
   "metadata": {},
   "outputs": [],
   "source": [
    "gis_df = wr.s3.read_csv(gis_file, boto3_session=session)"
   ]
  },
  {
   "cell_type": "code",
   "execution_count": 13,
   "metadata": {},
   "outputs": [],
   "source": [
    "gis_df = gis_df.rename(columns={\"apMAC\":\"ap_mac_address\"})"
   ]
  },
  {
   "cell_type": "code",
   "execution_count": 14,
   "metadata": {},
   "outputs": [
    {
     "output_type": "execute_result",
     "data": {
      "text/plain": [
       "      ap_mac_address Model             Street  Street2          City State  \\\n",
       "0  3c:7a:8a:84:1e:fc   NaN      1305 KATER ST      NaN  PHILADELPHIA    PA   \n",
       "1  5c:8f:e0:b1:18:02   NaN     1110 N HOPE ST      NaN  PHILADELPHIA    PA   \n",
       "2  00:1d:d5:bc:e9:74   NaN       631 S 9TH ST      NaN  PHILADELPHIA    PA   \n",
       "3  9c:34:26:71:66:d8   NaN  833 BAINBRIDGE ST      NaN  PHILADELPHIA    PA   \n",
       "4  78:23:ae:f2:47:77   NaN       1137 PINE ST  APT 103  PHILADELPHIA    PA   \n",
       "\n",
       "   Zipcode   Latitude  Longitude   Region             Zone   zoneType SiteID  \\\n",
       "0    19147  39.943095 -75.163699  Freedom  South St Zone 1  Secondary    NaN   \n",
       "1    19123  39.967898 -75.137222  Freedom         Fishtown  Secondary    NaN   \n",
       "2    19147  39.941791 -75.157001  Freedom  South St Zone 1  Secondary    NaN   \n",
       "3    19147  39.941846 -75.156767  Freedom  South St Zone 1  Secondary    NaN   \n",
       "4    19107  39.945278 -75.160919  Freedom  South St Zone 1  Secondary    NaN   \n",
       "\n",
       "           type                              geometry    snmpReportedMac  \\\n",
       "0  home_hotspot  POINT (-75.16369899999999 39.943095)  3c:7a:8a:84:1e:fd   \n",
       "1  home_hotspot  POINT (-75.13722199999999 39.967898)  5c:8f:e0:b1:18:03   \n",
       "2  home_hotspot  POINT (-75.15700099999999 39.941791)  00:1d:d5:bc:e9:75   \n",
       "3  home_hotspot          POINT (-75.156767 39.941846)  9c:34:26:71:66:d9   \n",
       "4  home_hotspot  POINT (-75.16091900000001 39.945278)  78:23:ae:f2:47:78   \n",
       "\n",
       "               apTZ  \n",
       "0  America/New_York  \n",
       "1  America/New_York  \n",
       "2  America/New_York  \n",
       "3  America/New_York  \n",
       "4  America/New_York  "
      ],
      "text/html": "<div>\n<style scoped>\n    .dataframe tbody tr th:only-of-type {\n        vertical-align: middle;\n    }\n\n    .dataframe tbody tr th {\n        vertical-align: top;\n    }\n\n    .dataframe thead th {\n        text-align: right;\n    }\n</style>\n<table border=\"1\" class=\"dataframe\">\n  <thead>\n    <tr style=\"text-align: right;\">\n      <th></th>\n      <th>ap_mac_address</th>\n      <th>Model</th>\n      <th>Street</th>\n      <th>Street2</th>\n      <th>City</th>\n      <th>State</th>\n      <th>Zipcode</th>\n      <th>Latitude</th>\n      <th>Longitude</th>\n      <th>Region</th>\n      <th>Zone</th>\n      <th>zoneType</th>\n      <th>SiteID</th>\n      <th>type</th>\n      <th>geometry</th>\n      <th>snmpReportedMac</th>\n      <th>apTZ</th>\n    </tr>\n  </thead>\n  <tbody>\n    <tr>\n      <th>0</th>\n      <td>3c:7a:8a:84:1e:fc</td>\n      <td>NaN</td>\n      <td>1305 KATER ST</td>\n      <td>NaN</td>\n      <td>PHILADELPHIA</td>\n      <td>PA</td>\n      <td>19147</td>\n      <td>39.943095</td>\n      <td>-75.163699</td>\n      <td>Freedom</td>\n      <td>South St Zone 1</td>\n      <td>Secondary</td>\n      <td>NaN</td>\n      <td>home_hotspot</td>\n      <td>POINT (-75.16369899999999 39.943095)</td>\n      <td>3c:7a:8a:84:1e:fd</td>\n      <td>America/New_York</td>\n    </tr>\n    <tr>\n      <th>1</th>\n      <td>5c:8f:e0:b1:18:02</td>\n      <td>NaN</td>\n      <td>1110 N HOPE ST</td>\n      <td>NaN</td>\n      <td>PHILADELPHIA</td>\n      <td>PA</td>\n      <td>19123</td>\n      <td>39.967898</td>\n      <td>-75.137222</td>\n      <td>Freedom</td>\n      <td>Fishtown</td>\n      <td>Secondary</td>\n      <td>NaN</td>\n      <td>home_hotspot</td>\n      <td>POINT (-75.13722199999999 39.967898)</td>\n      <td>5c:8f:e0:b1:18:03</td>\n      <td>America/New_York</td>\n    </tr>\n    <tr>\n      <th>2</th>\n      <td>00:1d:d5:bc:e9:74</td>\n      <td>NaN</td>\n      <td>631 S 9TH ST</td>\n      <td>NaN</td>\n      <td>PHILADELPHIA</td>\n      <td>PA</td>\n      <td>19147</td>\n      <td>39.941791</td>\n      <td>-75.157001</td>\n      <td>Freedom</td>\n      <td>South St Zone 1</td>\n      <td>Secondary</td>\n      <td>NaN</td>\n      <td>home_hotspot</td>\n      <td>POINT (-75.15700099999999 39.941791)</td>\n      <td>00:1d:d5:bc:e9:75</td>\n      <td>America/New_York</td>\n    </tr>\n    <tr>\n      <th>3</th>\n      <td>9c:34:26:71:66:d8</td>\n      <td>NaN</td>\n      <td>833 BAINBRIDGE ST</td>\n      <td>NaN</td>\n      <td>PHILADELPHIA</td>\n      <td>PA</td>\n      <td>19147</td>\n      <td>39.941846</td>\n      <td>-75.156767</td>\n      <td>Freedom</td>\n      <td>South St Zone 1</td>\n      <td>Secondary</td>\n      <td>NaN</td>\n      <td>home_hotspot</td>\n      <td>POINT (-75.156767 39.941846)</td>\n      <td>9c:34:26:71:66:d9</td>\n      <td>America/New_York</td>\n    </tr>\n    <tr>\n      <th>4</th>\n      <td>78:23:ae:f2:47:77</td>\n      <td>NaN</td>\n      <td>1137 PINE ST</td>\n      <td>APT 103</td>\n      <td>PHILADELPHIA</td>\n      <td>PA</td>\n      <td>19107</td>\n      <td>39.945278</td>\n      <td>-75.160919</td>\n      <td>Freedom</td>\n      <td>South St Zone 1</td>\n      <td>Secondary</td>\n      <td>NaN</td>\n      <td>home_hotspot</td>\n      <td>POINT (-75.16091900000001 39.945278)</td>\n      <td>78:23:ae:f2:47:78</td>\n      <td>America/New_York</td>\n    </tr>\n  </tbody>\n</table>\n</div>"
     },
     "metadata": {},
     "execution_count": 14
    }
   ],
   "source": [
    "gis_df.head()\n"
   ]
  },
  {
   "cell_type": "code",
   "execution_count": 16,
   "metadata": {},
   "outputs": [],
   "source": [
    "df = wr.s3.read_parquet(result[0], boto3_session=session)"
   ]
  },
  {
   "cell_type": "code",
   "execution_count": 22,
   "metadata": {},
   "outputs": [
    {
     "output_type": "execute_result",
     "data": {
      "text/plain": [
       "        time       ap_zone  ap_ip_address     ap_mac_address  ap_model  \\\n",
       "0 2020-04-30  ChestnutHill  68.80.248.134  f8:8b:37:b1:91:a7   TG1682G   \n",
       "1 2020-04-30  ChestnutHill  68.80.248.166  3c:04:61:f4:9a:3f   TG1682G   \n",
       "6 2020-04-30  ChestnutHill   68.80.248.80  80:b2:34:1c:02:34  DPC3941B   \n",
       "7 2020-04-30  ChestnutHill   68.80.248.89  3c:04:61:7e:ee:15   TG1682G   \n",
       "9 2020-04-30  ChestnutHill    68.80.248.9  a8:9f:ec:da:b9:c6   OG1600A   \n",
       "\n",
       "                         vlan vlan_id client_mac_address  \\\n",
       "0        XFINITY_5GHz_HHS_BWG     105  9c:04:eb:65:83:b2   \n",
       "1  xfinitywifi_2_4GHz_HHS_BWG     102  8c:f5:a3:20:92:71   \n",
       "6        XFINITY_5GHz_HHS_BWG     105  b0:35:b5:bf:64:1c   \n",
       "7        XFINITY_5GHz_HHS_BWG     105  00:b3:62:3e:9f:1f   \n",
       "9             XFINITY_5GHz_OG     611  b0:35:b5:bf:64:1c   \n",
       "\n",
       "   ingress_total_tonnage  ingress_active_time  egress_total_tonnage  \\\n",
       "0                  19030                 5272                  5811   \n",
       "1                 264395                15679                 92616   \n",
       "6                4164389                88083                609375   \n",
       "7                1372235                62856                123193   \n",
       "9                3812393                41365                243254   \n",
       "\n",
       "   egress_active_time       dt  total_tonnage  total_time  \n",
       "0                3799  05-2020       0.024841       9.071  \n",
       "1               79066  05-2020       0.357011      94.745  \n",
       "6               88515  05-2020       4.773764     176.598  \n",
       "7               20425  05-2020       1.495428      83.281  \n",
       "9               54597  05-2020       4.055647      95.962  "
      ],
      "text/html": "<div>\n<style scoped>\n    .dataframe tbody tr th:only-of-type {\n        vertical-align: middle;\n    }\n\n    .dataframe tbody tr th {\n        vertical-align: top;\n    }\n\n    .dataframe thead th {\n        text-align: right;\n    }\n</style>\n<table border=\"1\" class=\"dataframe\">\n  <thead>\n    <tr style=\"text-align: right;\">\n      <th></th>\n      <th>time</th>\n      <th>ap_zone</th>\n      <th>ap_ip_address</th>\n      <th>ap_mac_address</th>\n      <th>ap_model</th>\n      <th>vlan</th>\n      <th>vlan_id</th>\n      <th>client_mac_address</th>\n      <th>ingress_total_tonnage</th>\n      <th>ingress_active_time</th>\n      <th>egress_total_tonnage</th>\n      <th>egress_active_time</th>\n      <th>dt</th>\n      <th>total_tonnage</th>\n      <th>total_time</th>\n    </tr>\n  </thead>\n  <tbody>\n    <tr>\n      <th>0</th>\n      <td>2020-04-30</td>\n      <td>ChestnutHill</td>\n      <td>68.80.248.134</td>\n      <td>f8:8b:37:b1:91:a7</td>\n      <td>TG1682G</td>\n      <td>XFINITY_5GHz_HHS_BWG</td>\n      <td>105</td>\n      <td>9c:04:eb:65:83:b2</td>\n      <td>19030</td>\n      <td>5272</td>\n      <td>5811</td>\n      <td>3799</td>\n      <td>05-2020</td>\n      <td>0.024841</td>\n      <td>9.071</td>\n    </tr>\n    <tr>\n      <th>1</th>\n      <td>2020-04-30</td>\n      <td>ChestnutHill</td>\n      <td>68.80.248.166</td>\n      <td>3c:04:61:f4:9a:3f</td>\n      <td>TG1682G</td>\n      <td>xfinitywifi_2_4GHz_HHS_BWG</td>\n      <td>102</td>\n      <td>8c:f5:a3:20:92:71</td>\n      <td>264395</td>\n      <td>15679</td>\n      <td>92616</td>\n      <td>79066</td>\n      <td>05-2020</td>\n      <td>0.357011</td>\n      <td>94.745</td>\n    </tr>\n    <tr>\n      <th>6</th>\n      <td>2020-04-30</td>\n      <td>ChestnutHill</td>\n      <td>68.80.248.80</td>\n      <td>80:b2:34:1c:02:34</td>\n      <td>DPC3941B</td>\n      <td>XFINITY_5GHz_HHS_BWG</td>\n      <td>105</td>\n      <td>b0:35:b5:bf:64:1c</td>\n      <td>4164389</td>\n      <td>88083</td>\n      <td>609375</td>\n      <td>88515</td>\n      <td>05-2020</td>\n      <td>4.773764</td>\n      <td>176.598</td>\n    </tr>\n    <tr>\n      <th>7</th>\n      <td>2020-04-30</td>\n      <td>ChestnutHill</td>\n      <td>68.80.248.89</td>\n      <td>3c:04:61:7e:ee:15</td>\n      <td>TG1682G</td>\n      <td>XFINITY_5GHz_HHS_BWG</td>\n      <td>105</td>\n      <td>00:b3:62:3e:9f:1f</td>\n      <td>1372235</td>\n      <td>62856</td>\n      <td>123193</td>\n      <td>20425</td>\n      <td>05-2020</td>\n      <td>1.495428</td>\n      <td>83.281</td>\n    </tr>\n    <tr>\n      <th>9</th>\n      <td>2020-04-30</td>\n      <td>ChestnutHill</td>\n      <td>68.80.248.9</td>\n      <td>a8:9f:ec:da:b9:c6</td>\n      <td>OG1600A</td>\n      <td>XFINITY_5GHz_OG</td>\n      <td>611</td>\n      <td>b0:35:b5:bf:64:1c</td>\n      <td>3812393</td>\n      <td>41365</td>\n      <td>243254</td>\n      <td>54597</td>\n      <td>05-2020</td>\n      <td>4.055647</td>\n      <td>95.962</td>\n    </tr>\n  </tbody>\n</table>\n</div>"
     },
     "metadata": {},
     "execution_count": 22
    }
   ],
   "source": [
    "df.head()"
   ]
  },
  {
   "cell_type": "code",
   "execution_count": 19,
   "metadata": {},
   "outputs": [],
   "source": [
    "df = df[df['ingress_active_time'] != 0]\n",
    "df = df[df['egress_active_time'] != 0]\n",
    "df['total_tonnage'] = (df['ingress_total_tonnage'] + df['egress_total_tonnage'])*1e-6\n",
    "df['total_time'] = (df['ingress_active_time'] + df['egress_active_time'])*1e-3\n",
    "df = df[df['total_tonnage'] >= 1e-3]"
   ]
  },
  {
   "cell_type": "code",
   "execution_count": 21,
   "metadata": {},
   "outputs": [],
   "source": [
    "df = df.drop(columns=['egress_average_throughput', 'ingress_average_throughput'], axis=1)"
   ]
  },
  {
   "cell_type": "code",
   "execution_count": 27,
   "metadata": {},
   "outputs": [],
   "source": [
    "def s3_read_parquet(item):\n",
    "    df = wr.s3.read_parquet(item, boto3_session=session)\n",
    "    df = df[df['ingress_active_time'] != 0]\n",
    "    df = df[df['egress_active_time'] != 0]\n",
    "    df['total_tonnage'] = (df['ingress_total_tonnage'] + df['egress_total_tonnage'])*1e-6\n",
    "    df['total_time'] = (df['ingress_active_time'] + df['egress_active_time'])*1e-3\n",
    "    df = df[df['total_tonnage'] >= 1e-3]\n",
    "    df = df.drop(columns=['egress_average_throughput', 'ingress_average_throughput'], axis=1)\n",
    "    df['average_throughput'] = (df['total_tonnage']/df['total_time'])* 1e3\n",
    "    return df\n"
   ]
  },
  {
   "cell_type": "code",
   "execution_count": 24,
   "metadata": {},
   "outputs": [],
   "source": [
    "from pathlib import Path\n",
    "pickle_path = Path(Path().resolve().parents[0], 'data')"
   ]
  },
  {
   "cell_type": "code",
   "execution_count": 25,
   "metadata": {},
   "outputs": [
    {
     "output_type": "execute_result",
     "data": {
      "text/plain": [
       "WindowsPath('C:/Users/atrakru/Documents/trajectory-stats/data')"
      ]
     },
     "metadata": {},
     "execution_count": 25
    }
   ],
   "source": [
    "pickle_path"
   ]
  },
  {
   "cell_type": "code",
   "execution_count": 46,
   "metadata": {},
   "outputs": [],
   "source": [
    "df = pd.merge(s3_read_parquet(result[3]), gis_df, on='ap_mac_address')"
   ]
  },
  {
   "cell_type": "code",
   "execution_count": 42,
   "metadata": {},
   "outputs": [
    {
     "output_type": "execute_result",
     "data": {
      "text/plain": [
       "                 time       ap_zone  ap_ip_address     ap_mac_address  \\\n",
       "0 2020-05-03 00:00:00  ChestnutHill  68.80.248.134  f8:8b:37:b1:91:a7   \n",
       "1 2020-05-03 00:05:00  ChestnutHill  68.80.248.134  f8:8b:37:b1:91:a7   \n",
       "2 2020-05-03 00:10:00  ChestnutHill  68.80.248.134  f8:8b:37:b1:91:a7   \n",
       "3 2020-05-03 00:15:00  ChestnutHill  68.80.248.134  f8:8b:37:b1:91:a7   \n",
       "4 2020-05-03 00:20:00  ChestnutHill  68.80.248.134  f8:8b:37:b1:91:a7   \n",
       "\n",
       "  ap_model                      vlan vlan_id client_mac_address  \\\n",
       "0  TG1682G  xfinitywifi_5GHz_HHS_BWG     103  9c:04:eb:65:83:b2   \n",
       "1  TG1682G  xfinitywifi_5GHz_HHS_BWG     103  9c:04:eb:65:83:b2   \n",
       "2  TG1682G  xfinitywifi_5GHz_HHS_BWG     103  9c:04:eb:65:83:b2   \n",
       "3  TG1682G  xfinitywifi_5GHz_HHS_BWG     103  9c:04:eb:65:83:b2   \n",
       "4  TG1682G  xfinitywifi_5GHz_HHS_BWG     103  9c:04:eb:65:83:b2   \n",
       "\n",
       "   ingress_total_tonnage  ingress_active_time  ...   Latitude  Longitude  \\\n",
       "0               15071641               126292  ...  40.074132 -75.200463   \n",
       "1                4907787                49585  ...  40.074132 -75.200463   \n",
       "2               13580998                50645  ...  40.074132 -75.200463   \n",
       "3               26734653               183857  ...  40.074132 -75.200463   \n",
       "4               28419088               229363  ...  40.074132 -75.200463   \n",
       "\n",
       "    Region           Zone   zoneType  SiteID          type  \\\n",
       "0  Freedom  Chestnut Hill  Secondary     NaN  home_hotspot   \n",
       "1  Freedom  Chestnut Hill  Secondary     NaN  home_hotspot   \n",
       "2  Freedom  Chestnut Hill  Secondary     NaN  home_hotspot   \n",
       "3  Freedom  Chestnut Hill  Secondary     NaN  home_hotspot   \n",
       "4  Freedom  Chestnut Hill  Secondary     NaN  home_hotspot   \n",
       "\n",
       "                       geometry    snmpReportedMac              apTZ  \n",
       "0  POINT (-75.200463 40.074132)  f8:8b:37:b1:91:a8  America/New_York  \n",
       "1  POINT (-75.200463 40.074132)  f8:8b:37:b1:91:a8  America/New_York  \n",
       "2  POINT (-75.200463 40.074132)  f8:8b:37:b1:91:a8  America/New_York  \n",
       "3  POINT (-75.200463 40.074132)  f8:8b:37:b1:91:a8  America/New_York  \n",
       "4  POINT (-75.200463 40.074132)  f8:8b:37:b1:91:a8  America/New_York  \n",
       "\n",
       "[5 rows x 32 columns]"
      ],
      "text/html": "<div>\n<style scoped>\n    .dataframe tbody tr th:only-of-type {\n        vertical-align: middle;\n    }\n\n    .dataframe tbody tr th {\n        vertical-align: top;\n    }\n\n    .dataframe thead th {\n        text-align: right;\n    }\n</style>\n<table border=\"1\" class=\"dataframe\">\n  <thead>\n    <tr style=\"text-align: right;\">\n      <th></th>\n      <th>time</th>\n      <th>ap_zone</th>\n      <th>ap_ip_address</th>\n      <th>ap_mac_address</th>\n      <th>ap_model</th>\n      <th>vlan</th>\n      <th>vlan_id</th>\n      <th>client_mac_address</th>\n      <th>ingress_total_tonnage</th>\n      <th>ingress_active_time</th>\n      <th>...</th>\n      <th>Latitude</th>\n      <th>Longitude</th>\n      <th>Region</th>\n      <th>Zone</th>\n      <th>zoneType</th>\n      <th>SiteID</th>\n      <th>type</th>\n      <th>geometry</th>\n      <th>snmpReportedMac</th>\n      <th>apTZ</th>\n    </tr>\n  </thead>\n  <tbody>\n    <tr>\n      <th>0</th>\n      <td>2020-05-03 00:00:00</td>\n      <td>ChestnutHill</td>\n      <td>68.80.248.134</td>\n      <td>f8:8b:37:b1:91:a7</td>\n      <td>TG1682G</td>\n      <td>xfinitywifi_5GHz_HHS_BWG</td>\n      <td>103</td>\n      <td>9c:04:eb:65:83:b2</td>\n      <td>15071641</td>\n      <td>126292</td>\n      <td>...</td>\n      <td>40.074132</td>\n      <td>-75.200463</td>\n      <td>Freedom</td>\n      <td>Chestnut Hill</td>\n      <td>Secondary</td>\n      <td>NaN</td>\n      <td>home_hotspot</td>\n      <td>POINT (-75.200463 40.074132)</td>\n      <td>f8:8b:37:b1:91:a8</td>\n      <td>America/New_York</td>\n    </tr>\n    <tr>\n      <th>1</th>\n      <td>2020-05-03 00:05:00</td>\n      <td>ChestnutHill</td>\n      <td>68.80.248.134</td>\n      <td>f8:8b:37:b1:91:a7</td>\n      <td>TG1682G</td>\n      <td>xfinitywifi_5GHz_HHS_BWG</td>\n      <td>103</td>\n      <td>9c:04:eb:65:83:b2</td>\n      <td>4907787</td>\n      <td>49585</td>\n      <td>...</td>\n      <td>40.074132</td>\n      <td>-75.200463</td>\n      <td>Freedom</td>\n      <td>Chestnut Hill</td>\n      <td>Secondary</td>\n      <td>NaN</td>\n      <td>home_hotspot</td>\n      <td>POINT (-75.200463 40.074132)</td>\n      <td>f8:8b:37:b1:91:a8</td>\n      <td>America/New_York</td>\n    </tr>\n    <tr>\n      <th>2</th>\n      <td>2020-05-03 00:10:00</td>\n      <td>ChestnutHill</td>\n      <td>68.80.248.134</td>\n      <td>f8:8b:37:b1:91:a7</td>\n      <td>TG1682G</td>\n      <td>xfinitywifi_5GHz_HHS_BWG</td>\n      <td>103</td>\n      <td>9c:04:eb:65:83:b2</td>\n      <td>13580998</td>\n      <td>50645</td>\n      <td>...</td>\n      <td>40.074132</td>\n      <td>-75.200463</td>\n      <td>Freedom</td>\n      <td>Chestnut Hill</td>\n      <td>Secondary</td>\n      <td>NaN</td>\n      <td>home_hotspot</td>\n      <td>POINT (-75.200463 40.074132)</td>\n      <td>f8:8b:37:b1:91:a8</td>\n      <td>America/New_York</td>\n    </tr>\n    <tr>\n      <th>3</th>\n      <td>2020-05-03 00:15:00</td>\n      <td>ChestnutHill</td>\n      <td>68.80.248.134</td>\n      <td>f8:8b:37:b1:91:a7</td>\n      <td>TG1682G</td>\n      <td>xfinitywifi_5GHz_HHS_BWG</td>\n      <td>103</td>\n      <td>9c:04:eb:65:83:b2</td>\n      <td>26734653</td>\n      <td>183857</td>\n      <td>...</td>\n      <td>40.074132</td>\n      <td>-75.200463</td>\n      <td>Freedom</td>\n      <td>Chestnut Hill</td>\n      <td>Secondary</td>\n      <td>NaN</td>\n      <td>home_hotspot</td>\n      <td>POINT (-75.200463 40.074132)</td>\n      <td>f8:8b:37:b1:91:a8</td>\n      <td>America/New_York</td>\n    </tr>\n    <tr>\n      <th>4</th>\n      <td>2020-05-03 00:20:00</td>\n      <td>ChestnutHill</td>\n      <td>68.80.248.134</td>\n      <td>f8:8b:37:b1:91:a7</td>\n      <td>TG1682G</td>\n      <td>xfinitywifi_5GHz_HHS_BWG</td>\n      <td>103</td>\n      <td>9c:04:eb:65:83:b2</td>\n      <td>28419088</td>\n      <td>229363</td>\n      <td>...</td>\n      <td>40.074132</td>\n      <td>-75.200463</td>\n      <td>Freedom</td>\n      <td>Chestnut Hill</td>\n      <td>Secondary</td>\n      <td>NaN</td>\n      <td>home_hotspot</td>\n      <td>POINT (-75.200463 40.074132)</td>\n      <td>f8:8b:37:b1:91:a8</td>\n      <td>America/New_York</td>\n    </tr>\n  </tbody>\n</table>\n<p>5 rows × 32 columns</p>\n</div>"
     },
     "metadata": {},
     "execution_count": 42
    }
   ],
   "source": [
    "df.head()"
   ]
  },
  {
   "cell_type": "code",
   "execution_count": 39,
   "metadata": {},
   "outputs": [],
   "source": [
    "# for item in result:\n",
    "#     # create dataframe\n",
    "#     df = pd.merge(s3_read_parquet(item), gis_df, on='ap_mac_address')\n",
    "#     # save dataframe to parquet\n",
    "#     df.to_parquet(pickle_path)"
   ]
  },
  {
   "cell_type": "code",
   "execution_count": 47,
   "metadata": {},
   "outputs": [],
   "source": [
    "df.to_parquet('./file4.parquet')"
   ]
  },
  {
   "cell_type": "code",
   "execution_count": 49,
   "metadata": {},
   "outputs": [],
   "source": [
    "import glob\n",
    "parquet_files = [file for file in glob.glob('*.parquet')]"
   ]
  },
  {
   "cell_type": "code",
   "execution_count": 50,
   "metadata": {},
   "outputs": [
    {
     "output_type": "execute_result",
     "data": {
      "text/plain": [
       "['file1.parquet', 'file2.parquet', 'file3.parquet', 'file4.parquet']"
      ]
     },
     "metadata": {},
     "execution_count": 50
    }
   ],
   "source": [
    "parquet_files"
   ]
  },
  {
   "cell_type": "code",
   "execution_count": 51,
   "metadata": {},
   "outputs": [],
   "source": [
    "import shutil\n",
    "import os\n",
    "\n",
    "for file in parquet_files:\n",
    "    shutil.move(file, pickle_path)"
   ]
  }
 ]
}